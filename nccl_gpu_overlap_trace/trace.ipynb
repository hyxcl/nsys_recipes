{
 "cells": [
  {
   "cell_type": "markdown",
   "metadata": {},
   "source": [
    "# NCCL GPU Overlap Trace"
   ]
  },
  {
   "cell_type": "markdown",
   "metadata": {},
   "source": [
    "This notebook provides the percentage of overlap for communication and compute kernels."
   ]
  },
  {
   "cell_type": "code",
   "execution_count": null,
   "metadata": {},
   "outputs": [],
   "source": [
    "import pandas as pd\n",
    "import plotly.offline as pyo\n",
    "\n",
    "from IPython.display import display, HTML, Markdown\n",
    "import matplotlib.pyplot as plt\n",
    "\n",
    "import nsys_display\n",
    "\n",
    "display(HTML(\"<style>.container { width:95% !important; }</style>\"))\n",
    "pd.set_option('display.max_colwidth', None)\n",
    "pd.set_option('display.max_rows', None)\n",
    "pyo.init_notebook_mode()"
   ]
  },
  {
   "cell_type": "markdown",
   "metadata": {},
   "source": [
    "## Statics"
   ]
  },
  {
   "cell_type": "markdown",
   "metadata": {},
   "source": [
    "this part shows the compute, communication statics"
   ]
  },
  {
   "cell_type": "code",
   "execution_count": null,
   "metadata": {},
   "outputs": [],
   "source": [
    "# input compute, and each communication streamID.\n",
    "COMPUTE_ID =        # 7\n",
    "TP_ID =             # 60\n",
    "PP_ID =             #56     # include bubble time\n",
    "DP_ID =             #72\n",
    "Others_ID =         # [1,2,3]"
   ]
  },
  {
   "cell_type": "code",
   "execution_count": null,
   "metadata": {},
   "outputs": [],
   "source": [
    "stream_df = pd.read_parquet('grouped_stream.parquet')\n",
    "total_duration = (stream_df[\"Duration\"].sum()-stream_df[\"Communication Overlap Duration\"].sum())\n",
    "compute_duration = stream_df.loc[COMPUTE_ID][\"Exclude Compute Overlap Duration\"]\n",
    "compute_percent = compute_duration/total_duration*100\n",
    "tp_duration = stream_df.loc[TP_ID][\"Exclude Compute Overlap Duration\"]\n",
    "tp_percent = tp_duration/total_duration*100\n",
    "pp_duration = stream_df.loc[PP_ID][\"Exclude Compute Overlap Duration\"]\n",
    "pp_percent = pp_duration/total_duration*100\n",
    "dp_duration = stream_df.loc[DP_ID][\"Exclude Compute Overlap Duration\"]\n",
    "dp_percent = dp_duration/total_duration*100\n",
    "others_duration = stream_df.loc[Others_ID][\"Exclude Compute Overlap Duration\"].sum()\n",
    "others_percent = others_duration/total_duration*100"
   ]
  },
  {
   "cell_type": "code",
   "execution_count": null,
   "metadata": {},
   "outputs": [],
   "source": [
    "sizes = [compute_percent, tp_percent, pp_percent, dp_percent, others_percent]\n",
    "sizes_round = [round(num, 2) for num in sizes]\n",
    "labels = ['compute','tp','pp','dp','others']\n",
    "explode = (0, 0.6, 0.5, 0.4, 0.3)  # 突出第二个扇区\n",
    "colors = ['green', 'yellowgreen', 'blue', 'lightskyblue', 'gold']\n",
    "\n",
    "plt.pie(sizes_round, explode=explode, labels=labels, colors=colors,startangle=140)\n",
    "\n",
    "# 创建包含数据比例的新标签\n",
    "percentages = [f'{label} - {size}%' for label, size in zip(labels, sizes_round)]\n",
    "\n",
    "# 添加图例\n",
    "plt.legend(title=\"Compute Communication percent\", labels=percentages, loc=\"center left\", bbox_to_anchor=(1, 0, 0.5, 1))\n",
    "\n",
    "plt.axis('equal')  # 确保饼图是圆的\n",
    "plt.show()"
   ]
  },
  {
   "cell_type": "markdown",
   "metadata": {},
   "source": [
    "## Per-kernel traces"
   ]
  },
  {
   "attachments": {},
   "cell_type": "markdown",
   "metadata": {},
   "source": [
    "The table displays overlap percentages for each kernel, corresponding to the individual rank selected from the drop-down menu.\n",
    "All time values are in nanoseconds."
   ]
  },
  {
   "cell_type": "code",
   "execution_count": null,
   "metadata": {},
   "outputs": [],
   "source": [
    "df = pd.read_parquet('rank_trace.parquet')\n",
    "nsys_display.display_table_per_rank(df)"
   ]
  },
  {
   "cell_type": "markdown",
   "metadata": {},
   "source": [
    "## Grouped traces"
   ]
  },
  {
   "cell_type": "markdown",
   "metadata": {},
   "source": [
    "The table presents overlap percentages for each kernel, grouped by kernel name across all ranks."
   ]
  },
  {
   "cell_type": "code",
   "execution_count": null,
   "metadata": {},
   "outputs": [],
   "source": [
    "grouped_df = pd.read_parquet('grouped_trace.parquet')\n",
    "display(grouped_df)"
   ]
  },
  {
   "cell_type": "markdown",
   "metadata": {},
   "source": [
    "## Files"
   ]
  },
  {
   "cell_type": "markdown",
   "metadata": {},
   "source": [
    "The table associates each rank number with the original filename. Ranks are assigned assuming that the file names include the rank with sufficient zero padding for proper sorting. Otherwise, the actual rank may differ from the assigned ID."
   ]
  },
  {
   "cell_type": "code",
   "execution_count": null,
   "metadata": {},
   "outputs": [],
   "source": [
    "files_df = pd.read_parquet(\"files.parquet\")\n",
    "display(files_df)"
   ]
  }
 ],
 "metadata": {
  "kernelspec": {
   "display_name": "Python 3",
   "language": "python",
   "name": "python3"
  },
  "language_info": {
   "name": "python",
   "version": "3.10.5"
  },
  "orig_nbformat": 4,
  "vscode": {
   "interpreter": {
    "hash": "7e1998ff7f8aa20ada591c520b972326324e5ea05489af9e422744c7c09f6dad"
   }
  }
 },
 "nbformat": 4,
 "nbformat_minor": 2
}

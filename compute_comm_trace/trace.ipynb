{
 "cells": [
  {
   "cell_type": "markdown",
   "metadata": {},
   "source": [
    "# Compute Communication Overlap Trace"
   ]
  },
  {
   "cell_type": "markdown",
   "metadata": {},
   "source": [
    "This notebook provides the percentage of overlap for communication and compute kernels."
   ]
  },
  {
   "cell_type": "code",
   "execution_count": null,
   "metadata": {},
   "outputs": [],
   "source": [
    "import pandas as pd\n",
    "import plotly.offline as pyo\n",
    "\n",
    "from IPython.display import display, HTML, Markdown\n",
    "import matplotlib.pyplot as plt\n",
    "\n",
    "import nsys_display\n",
    "\n",
    "display(HTML(\"<style>.container { width:95% !important; }</style>\"))\n",
    "pd.set_option('display.max_colwidth', None)\n",
    "pd.set_option('display.max_rows', None)\n",
    "pyo.init_notebook_mode()"
   ]
  },
  {
   "cell_type": "markdown",
   "metadata": {},
   "source": [
    "## Statics"
   ]
  },
  {
   "cell_type": "markdown",
   "metadata": {},
   "source": [
    "this part shows the compute, communication statics"
   ]
  },
  {
   "cell_type": "code",
   "execution_count": null,
   "metadata": {},
   "outputs": [],
   "source": [
    "# input compute, and each communication streamID.  here you need to open nsys profile to manually map the stream number to the compute, TP DP PP communication etc.\n",
    "# ID should be in list, for example [7], [8,9,10]\n",
    "# if no stream ID in some item, just set it to [], for example, if there is no PP, just set PP_ID = []\n",
    "COMPUTE_ID =        #\n",
    "TP_ID =             #\n",
    "PP_ID =             #include bubble time\n",
    "DP_ID =             #\n",
    "Other_ID =             #\n"
   ]
  },
  {
   "cell_type": "code",
   "execution_count": null,
   "metadata": {},
   "outputs": [],
   "source": [
    "stream_df = pd.read_parquet('grouped_stream.parquet')\n",
    "total_duration = (stream_df[\"Duration\"].sum()-(stream_df[\"Communication Overlap Duration\"].sum()+stream_df[\"Compute Overlap Duration\"].sum())/2)\n",
    "if 'SubRange' in stream_df.index.names:\n",
    "    subrange_total_duration = (stream_df[\"Duration\"].groupby(level=1).sum()-(stream_df[\"Communication Overlap Duration\"].groupby(level=1).sum()+stream_df[\"Compute Overlap Duration\"].groupby(level=1).sum())/2)"
   ]
  },
  {
   "cell_type": "code",
   "execution_count": null,
   "metadata": {},
   "outputs": [],
   "source": [
    "#stream_df"
   ]
  },
  {
   "cell_type": "code",
   "execution_count": null,
   "metadata": {},
   "outputs": [],
   "source": [
    "def generate_sub_percent(df, stream_id, total_duration):\n",
    "    duration = (df.loc[stream_id][\"Exclude Compute Overlap Duration\"]).groupby(level=1).sum()\n",
    "    percent = (duration/total_duration*100).fillna(0)\n",
    "    return percent\n",
    "\n",
    "def generate_total_percent(df, stream_id, total_duration):\n",
    "    duration = df.loc[stream_id][\"Exclude Compute Overlap Duration\"].sum()\n",
    "    percent = duration/total_duration*100\n",
    "    return percent\n",
    "\n",
    "def plotpie(sizes):\n",
    "    sizes_round = [round(num, 2) for num in sizes]\n",
    "    labels = ['compute','tp','pp','dp','others']\n",
    "    explode = (0, 0.6, 0.5, 0.4, 0.3)  # 突出第二个扇区\n",
    "    colors = ['green', 'yellowgreen', 'blue', 'lightskyblue', 'gold']\n",
    "\n",
    "    plt.pie(sizes_round, explode=explode, labels=labels, colors=colors,startangle=140)\n",
    "\n",
    "# 创建包含数据比例的新标签\n",
    "    percentages = [f'{label} - {size}%' for label, size in zip(labels, sizes_round)]\n",
    "\n",
    "# 添加图例\n",
    "    plt.legend(title=\"Compute Communication percent\", labels=percentages, loc=\"center left\", bbox_to_anchor=(1, 0, 0.5, 1))\n",
    "\n",
    "    plt.axis('equal')  # 确保饼图是圆的\n",
    "    plt.show()"
   ]
  },
  {
   "cell_type": "code",
   "execution_count": null,
   "metadata": {},
   "outputs": [],
   "source": [
    "compute_percent = generate_total_percent(stream_df,COMPUTE_ID,total_duration)\n",
    "tp_percent = generate_total_percent(stream_df,TP_ID,total_duration)\n",
    "dp_percent = generate_total_percent(stream_df,DP_ID,total_duration)\n",
    "pp_percent = generate_total_percent(stream_df,PP_ID,total_duration)\n",
    "others_percent = generate_total_percent(stream_df,Other_ID,total_duration)\n",
    "sizes_total = [compute_percent, tp_percent, pp_percent, dp_percent, others_percent]\n",
    "\n",
    "if 'SubRange' in stream_df.index.names:\n",
    "    subrange_compute_percent = generate_sub_percent(stream_df,COMPUTE_ID,subrange_total_duration)\n",
    "    subrange_tp_percent = generate_sub_percent(stream_df,TP_ID,subrange_total_duration)\n",
    "    subrange_dp_percent = generate_sub_percent(stream_df,DP_ID,subrange_total_duration)\n",
    "    subrange_pp_percent = generate_sub_percent(stream_df,PP_ID,subrange_total_duration)\n",
    "    subrange_others_percent = generate_sub_percent(stream_df,Other_ID,subrange_total_duration)\n",
    "\n",
    "\n"
   ]
  },
  {
   "cell_type": "code",
   "execution_count": null,
   "metadata": {},
   "outputs": [],
   "source": [
    "print(\"the compute communication trace of total range\")\n",
    "plotpie(sizes_total)"
   ]
  },
  {
   "cell_type": "code",
   "execution_count": null,
   "metadata": {},
   "outputs": [],
   "source": [
    "# if you have input subrange, input range id here, which you want to show the statics.\n",
    "range_id = 1\n",
    "sizes_range = [subrange_compute_percent[range_id], subrange_tp_percent[range_id], subrange_pp_percent[range_id],subrange_dp_percent[range_id], subrange_others_percent[range_id]]\n",
    "print(\"the compute communication trace of the input subrange:\",range_id)\n",
    "plotpie(sizes_range)"
   ]
  },
  {
   "cell_type": "markdown",
   "metadata": {},
   "source": [
    "## Per-kernel traces"
   ]
  },
  {
   "cell_type": "markdown",
   "metadata": {},
   "source": [
    "The table displays overlap percentages for each kernel, corresponding to the individual rank selected from the drop-down menu.\n",
    "All time values are in nanoseconds."
   ]
  },
  {
   "cell_type": "code",
   "execution_count": null,
   "metadata": {},
   "outputs": [],
   "source": [
    "df = pd.read_parquet('rank_trace.parquet')\n",
    "nsys_display.display_table_per_rank(df)"
   ]
  },
  {
   "cell_type": "markdown",
   "metadata": {},
   "source": [
    "## Grouped traces"
   ]
  },
  {
   "cell_type": "markdown",
   "metadata": {},
   "source": [
    "The table presents overlap percentages for each kernel, grouped by kernel name across all ranks."
   ]
  },
  {
   "cell_type": "code",
   "execution_count": null,
   "metadata": {},
   "outputs": [],
   "source": [
    "grouped_df = pd.read_parquet('grouped_trace.parquet')\n",
    "display(grouped_df)"
   ]
  }
 ],
 "metadata": {
  "kernelspec": {
   "display_name": "Python 3 (ipykernel)",
   "language": "python",
   "name": "python3"
  },
  "language_info": {
   "codemirror_mode": {
    "name": "ipython",
    "version": 3
   },
   "file_extension": ".py",
   "mimetype": "text/x-python",
   "name": "python",
   "nbconvert_exporter": "python",
   "pygments_lexer": "ipython3",
   "version": "3.11.5"
  },
  "vscode": {
   "interpreter": {
    "hash": "7e1998ff7f8aa20ada591c520b972326324e5ea05489af9e422744c7c09f6dad"
   }
  }
 },
 "nbformat": 4,
 "nbformat_minor": 2
}

{
 "cells": [
  {
   "attachments": {},
   "cell_type": "markdown",
   "id": "d47405aa-4e8c-4e8d-9e9f-5771f5eb0cd1",
   "metadata": {},
   "source": [
    "# CUDA Kernel Overlappnig Analysis\n",
    "Investigate how many times spend on compute, communication, and the wasted empty time on GPU. All kernels are put into two categories: compute or nccl(communication).\n",
    "\n",
    "It will show several heatmaps, which help you quickly to figure out which rank has problem:\n",
    "\n",
    "- Computation ratio\n",
    "- NCCL ratio\n",
    "- Overlap ratio\n",
    "- \n",
    "- Computation in seconds(include overlapped)\n",
    "- NCCL in seconds(include overlapped)\n",
    "- Overlap in seconds\n",
    "\n",
    "More to come: list by streams, list by devices, list by ranks\n",
    "\n",
    "\n",
    "All times are in nanoseconds."
   ]
  },
  {
   "cell_type": "markdown",
   "id": "5cbed268-3ac1-4b76-8be9-0c2b060f1c3a",
   "metadata": {
    "tags": []
   },
   "source": [
    "## Load Data"
   ]
  },
  {
   "cell_type": "code",
   "execution_count": null,
   "id": "0425e7d7",
   "metadata": {
    "jupyter": {
     "source_hidden": true
    },
    "tags": []
   },
   "outputs": [],
   "source": [
    "#General setup properties\n",
    "import IPython.display\n",
    "from IPython.display import display, HTML, Markdown\n",
    "display(HTML(\"<style>.container { width:95% !important; }</style>\"))\n",
    "\n",
    "import pickle\n",
    "import importlib\n",
    "import os\n",
    "import glob\n",
    "import math\n",
    "import re\n",
    "import time\n",
    "from collections import deque\n",
    "import pandas as pd\n",
    "import numpy as np\n",
    "import sqlite3\n",
    "#!pip3 install plotly\n",
    "# Setting up plots\n",
    "import plotly.express as px\n",
    "import plotly.offline as pyo\n",
    "from plotly.subplots import make_subplots\n",
    "\n",
    "pyo.init_notebook_mode()\n",
    "\n",
    "pd.options.plotting.backend = \"plotly\"\n",
    "pd.set_option('display.max_rows', 100)\n",
    "pd.set_option('display.width', 250)\n",
    "\n",
    "import nsys_pres"
   ]
  },
  {
   "cell_type": "markdown",
   "metadata": {},
   "source": [
    "\n",
    "# Notice\n",
    "If you encounter file not found error for the following steps, please restart the kernel or re-run the recipe.\n",
    "\n",
    "Below will init some helper functions for display the data."
   ]
  },
  {
   "cell_type": "code",
   "execution_count": null,
   "id": "8cfeaf53-9d41-4a8c-8b2f-82c89a5c2603",
   "metadata": {
    "jupyter": {
     "source_hidden": true
    },
    "tags": []
   },
   "outputs": [],
   "source": [
    "#load the data\n",
    "files_df = pd.read_parquet(\"files.parquet\").rename_axis(\"Rank\",axis='index')\n",
    "type_dfs = [(name, pd.read_parquet(f\"type_{name}.parquet\")) for name in files_df['File']]\n",
    "\n",
    "\n",
    "# Init some helper functions\n",
    "def getOutliers(df, col_name):\n",
    "    avg = df[col_name].mean()\n",
    "    std = df[col_name].std()\n",
    "    result = (df[col_name] - avg)/std\n",
    "    retDict = {}\n",
    "    #retDict['Backup'] = result\n",
    "    # if result > 3, should be outlier\n",
    "    retDict['Outlier'] = result[abs(result) >= 3].index.tolist()\n",
    "    # 2~3, likely\n",
    "    retDict['Likely'] = result[(2 <= abs(result)) & (abs(result) < 3)].index.tolist()\n",
    "    # 1~2, not certain\n",
    "    # <1, ignore\n",
    "    return retDict\n",
    "\n",
    "def showOutlierDesc(df, title):\n",
    "    mdStr = [f'# {title}', 'Outliers | ', '----- | ']\n",
    "    # Get all keys, for the first column of the table\n",
    "    firstColKey = set()\n",
    "    for col in df.columns:\n",
    "        o = getOutliers(df, col)\n",
    "        firstColKey.update(o.keys())\n",
    "\n",
    "    # Preallocate the row\n",
    "    for key in firstColKey:\n",
    "        mdStr.append(f'{key} | ')\n",
    "    \n",
    "    # Create header for table\n",
    "    for col in df.columns:\n",
    "        mdStr[1] += f'{col} | '\n",
    "        mdStr[2] += f'----- | '\n",
    "        o = getOutliers(df, col)\n",
    "        for idx, key in enumerate(firstColKey):\n",
    "            mdStr[idx+3] += f'{o[key]} |'\n",
    "\n",
    "    display(Markdown('\\n'.join(mdStr)))\n",
    "            "
   ]
  },
  {
   "attachments": {},
   "cell_type": "markdown",
   "id": "f330296f-74c5-4378-b982-d0fb95236972",
   "metadata": {},
   "source": [
    "## Statistics for Target Operation\n",
    "\n",
    "First we calculate the absolute number of each category (Compute, Communicate, Empty, Overlap) for each rank."
   ]
  },
  {
   "cell_type": "code",
   "execution_count": null,
   "id": "ba5bde92-c6bd-4493-a829-4ae84d797bb3",
   "metadata": {
    "tags": []
   },
   "outputs": [],
   "source": [
    "summary = []\n",
    "for name, type_df in type_dfs:\n",
    "    sum_df = type_df.groupby(['OverlapType']).agg(\n",
    "        {\"duration\": \"sum\"}\n",
    "    )\n",
    "    dfrow = sum_df.transpose()\n",
    "    dfrow['Name'] = name\n",
    "    summary.append(dfrow)\n",
    "summary_df = pd.concat(summary)\n",
    "# Sort by column lambda\n",
    "summary_df = summary_df.sort_values('Name',\n",
    "                                    key=lambda x:x.str.split(\"rank\", expand=True)[1].astype(int),\n",
    "                                   ascending=False)\n",
    "summary_df.set_index('Name', inplace=True)"
   ]
  },
  {
   "cell_type": "markdown",
   "id": "48509bed",
   "metadata": {},
   "source": [
    "Then we display one heatmap by seconds"
   ]
  },
  {
   "cell_type": "code",
   "execution_count": null,
   "id": "b1e1ba5c",
   "metadata": {},
   "outputs": [],
   "source": [
    "# Display by seconds\n",
    "fig = make_subplots(rows=1, cols=len(summary_df.columns),\n",
    "                  subplot_titles=summary_df.columns,\n",
    "                  shared_yaxes=True, horizontal_spacing=0.1)\n",
    "\n",
    "for idx, colName in enumerate(summary_df.columns):\n",
    "    fig.add_trace(\n",
    "        px.imshow(summary_df[[colName]]/1e9,aspect=\"auto\").data[0],\n",
    "        col=idx+1, row=1\n",
    "    )\n",
    "fig.update_layout(height=800, title_text=\"Running seconds for each part.\")\n",
    "fig.show()"
   ]
  },
  {
   "cell_type": "code",
   "execution_count": null,
   "metadata": {
    "vscode": {
     "languageId": "plaintext"
    }
   },
   "outputs": [],
   "source": [
    "showOutlierDesc(summary_df, \"Outlier detections by running seconds\")"
   ]
  },
  {
   "attachments": {},
   "cell_type": "markdown",
   "id": "2a196ce7-937a-4766-b6b4-e616f7c0dc7b",
   "metadata": {},
   "source": [
    "## Show percent of each step\n",
    "\n",
    "Percentage of each step."
   ]
  },
  {
   "cell_type": "code",
   "execution_count": null,
   "id": "062dbf46-4432-4084-bdc3-0ac93086cc52",
   "metadata": {
    "tags": []
   },
   "outputs": [],
   "source": [
    "percent_df = summary_df.copy()\n",
    "percent_df['total'] = summary_df.sum(axis=1)\n",
    "for col in percent_df.columns:\n",
    "    if col != 'total':\n",
    "        percent_df[col] = percent_df[col]/percent_df['total']\n",
    "percent_df=percent_df.drop('total', axis=1) # Drop total column"
   ]
  },
  {
   "cell_type": "code",
   "execution_count": null,
   "id": "366d2804",
   "metadata": {},
   "outputs": [],
   "source": [
    "fig = make_subplots(rows=1, cols=len(percent_df.columns),\n",
    "                  subplot_titles=percent_df.columns,\n",
    "                  shared_yaxes=True, horizontal_spacing=0.1)\n",
    "\n",
    "for idx, colName in enumerate(percent_df.columns):\n",
    "    fig.add_trace(\n",
    "        px.imshow(percent_df[[colName]],aspect=\"auto\").data[0],\n",
    "        col=idx+1, row=1\n",
    "    )\n",
    "fig.update_layout(height=800, title_text=\"Running percent for each part.\")\n",
    "fig.show()"
   ]
  },
  {
   "cell_type": "code",
   "execution_count": null,
   "metadata": {
    "vscode": {
     "languageId": "plaintext"
    }
   },
   "outputs": [],
   "source": [
    "showOutlierDesc(percent_df, \"Outlier detections by percentage\")"
   ]
  },
  {
   "cell_type": "markdown",
   "metadata": {},
   "source": [
    "You can dive more about each time segment. For example, it can split into several smaller intervals, and you'll find the behavior pattern for each interval."
   ]
  },
  {
   "cell_type": "code",
   "execution_count": null,
   "metadata": {},
   "outputs": [],
   "source": [
    "maxTime = 0\n",
    "minTime = 123456789e10\n",
    "for type_i in type_dfs:\n",
    "    tmp = max(type_i[1]['end'])\n",
    "    maxTime = max(maxTime, tmp)\n",
    "    tmp = min(type_i[1]['start'])\n",
    "    minTime = min(minTime, tmp)\n",
    "\n",
    "timeSplits = 30\n",
    "timeStamps = [x for x in range(minTime, maxTime, (maxTime-minTime)//timeSplits)]\n",
    "print(minTime/1e9, maxTime/1e9)\n",
    "# Fix last time stamp\n",
    "timeStamps[-1] = maxTime\n",
    "# print(timeStamps)\n",
    "row_titles=[name for name, rank_df in type_dfs]\n",
    "\n",
    "\n",
    "fig = make_subplots(rows=len(type_dfs), cols=1, \n",
    "                    x_title='Timeline', y_title='Each Rank',\n",
    "                   shared_xaxes=True, vertical_spacing=0, row_titles=row_titles)\n",
    "\n",
    "for idx, (name, rank_df) in enumerate(type_dfs):\n",
    "    rank_df['time_int'] = pd.cut(rank_df['start'], bins=timeStamps, labels=[x/1e9 for x in timeStamps[:-1]])\n",
    "    result = rank_df.groupby(['time_int', 'OverlapType'], observed=False).agg({\"duration\": \"sum\"}).reset_index()\n",
    "    result['duration'] /= 1e9 # convert ns to s\n",
    "    # print(result)\n",
    "    for i in range(4):\n",
    "        fig.add_trace(\n",
    "            px.bar(result, x=\"time_int\", y=\"duration\", color=\"OverlapType\", color_discrete_map={\n",
    "                \"Compute\": \"#76b900\", \"Communicate\": \"purple\", \"Overlap\": \"gray\", \"Empty\": \"black\"},).data[i],\n",
    "            row=idx+1, col=1\n",
    "        )\n",
    "fig.update_layout(height=1600, title_text=\"Running percent for each part.\", showlegend=False, barmode='stack')\n",
    "fig.update_xaxes(nticks=timeSplits-1) # change the ticks\n",
    "fig.update_yaxes(showticklabels=False) # Hide y axis ticks\n",
    "fig.for_each_annotation(lambda a:  a.update(x = -0.07, textangle=0) if a.text in row_titles else())\n",
    "fig.show()"
   ]
  }
 ],
 "metadata": {
  "kernelspec": {
   "display_name": "Python 3",
   "language": "python",
   "name": "python3"
  },
  "language_info": {
   "codemirror_mode": {
    "name": "ipython",
    "version": 3
   },
   "file_extension": ".py",
   "mimetype": "text/x-python",
   "name": "python",
   "nbconvert_exporter": "python",
   "pygments_lexer": "ipython3",
   "version": "3.8.10 (default, Nov 14 2022, 12:59:47) \n[GCC 9.4.0]"
  },
  "vscode": {
   "interpreter": {
    "hash": "916dbcbb3f70747c44a77c7bcd40155683ae19c65e1c03b4aa3499c5328201f1"
   }
  }
 },
 "nbformat": 4,
 "nbformat_minor": 5
}
